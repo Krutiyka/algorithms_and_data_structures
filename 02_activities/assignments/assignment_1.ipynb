{
 "cells": [
  {
   "cell_type": "markdown",
   "metadata": {},
   "source": [
    "# Coding Problems\n",
    "\n",
    "## Objective\n",
    "\n",
    "This assignment aims to demonstrate how to study a data structures or algorithms question in depth to prepare for an industry coding interview. Leetcode is a popular coding practice site that many use to practice for technical interviews. Like behavioral interviews, it's important to practice and keep your skills sharp.\n",
    "\n",
    "## Group Size\n",
    "\n",
    "Please complete this individually.\n",
    "\n",
    "## Part 1:\n",
    "\n",
    "_*You will be assigned one of three problems based of your first name. Execute the code below, and that will tell you your assigned problem. Include the output as part of your submission (do not clear the output). The problems are based-off problems from Leetcode.*_\n"
   ]
  },
  {
   "cell_type": "code",
   "execution_count": 1,
   "metadata": {},
   "outputs": [
    {
     "name": "stdout",
     "output_type": "stream",
     "text": [
      "3\n"
     ]
    }
   ],
   "source": [
    "print((hash('Iryna') % 3) + 1)"
   ]
  },
  {
   "cell_type": "markdown",
   "metadata": {},
   "source": [
    "<details>\n",
    "  <summary>Question 1</summary>\n",
    "\n",
    "  # Question One: Check Duplicates in Tree\n",
    "\n",
    "  Given the `root` of a binary tree, check whether it is contains a duplicate value. If a duplicate exists, return the duplicate value. If there are multiple duplicates, return the one with the closest distance to the root. If no duplicate exists, return -1.\n",
    "\n",
    "  ## Examples\n",
    "\n",
    "  ### Example 1\n",
    "\n",
    "  ![](./images/q1_ex1.png)\n",
    "\n",
    "  Input: `root = [1, 2, 2, 3, 5, 6, 7]` *What traversal method is this?*\n",
    "\n",
    "  Output: 2\n",
    "\n",
    "  ### Example 2\n",
    "\n",
    "  ![](./images/q1_ex2.png)\n",
    "\n",
    "  Input: `root = [1, 10, 2, 3, 10, 12, 12]`\n",
    "\n",
    "  Output: 10\n",
    "\n",
    "  ### Example 3\n",
    "\n",
    "  ![](./images/q1_ex3.png)\n",
    "\n",
    "  Input: `root = [10, 9, 8, 7]`\n",
    "\n",
    "  Output: -1\n",
    "\n",
    "</details>\n",
    "\n",
    "#### Starter Code for Question 1"
   ]
  },
  {
   "cell_type": "code",
   "execution_count": null,
   "metadata": {},
   "outputs": [],
   "source": [
    "# Definition for a binary tree node.\n",
    "# class TreeNode(object):\n",
    "#     def __init__(self, val = 0, left = None, right = None):\n",
    "#         self.val = val\n",
    "#         self.left = left\n",
    "#         self.right = right\n",
    "def is_duplicate(root: TreeNode) -> int:\n",
    "  # TODO"
   ]
  },
  {
   "cell_type": "markdown",
   "metadata": {},
   "source": [
    "<details>\n",
    "  <summary>Question 2</summary>\n",
    "\n",
    "  # Question Two: Path to Leaves\n",
    "\n",
    "  Given the `root` of a binary tree, return all root to leaf paths in any order.\n",
    "\n",
    "  ## Examples\n",
    "\n",
    "  ### Example 1\n",
    "\n",
    "  ![](./images/q1_ex1.png)\n",
    "\n",
    "  Input: `root = [1, 2, 2, 3, 5, 6, 7]` *What traversal method is this?*\n",
    "\n",
    "  Output: [[1, 2, 3], [1, 2, 5], [1, 2, 6], [1, 2, 7]]\n",
    "\n",
    "  ### Example 2\n",
    "\n",
    "  ![](./images/q1_ex3.png)\n",
    "\n",
    "  Input: `root = [10, 9, 7, 8]`\n",
    "\n",
    "  Output: [[10, 7], [10, 9, 8]]\n",
    "\n",
    "</details>\n",
    "\n",
    "#### Starter Code for Question 2"
   ]
  },
  {
   "cell_type": "code",
   "execution_count": null,
   "metadata": {},
   "outputs": [],
   "source": [
    "# Definition for a binary tree node.\n",
    "# class TreeNode(object):\n",
    "#     def __init__(self, val = 0, left = None, right = None):\n",
    "#         self.val = val\n",
    "#         self.left = left\n",
    "#         self.right = right\n",
    "def bt_path(root: TreeNode) -> List[List[int]]:\n",
    "  # TODO"
   ]
  },
  {
   "cell_type": "markdown",
   "metadata": {},
   "source": [
    "<details>\n",
    "  <summary>Question 3</summary>\n",
    "\n",
    "  # Question Three: Missing Number in Range\n",
    " \n",
    "  You are given a list containing `n` integers in the range `[0, n]`. Return a list of numbers that are missing from the range `[0, n]` of the array. If there is no missing number, return -1. Note, all the integers in the list may not be unique.\n",
    "  \n",
    "  ## Examples\n",
    "\n",
    "  ### Example 1\n",
    "\n",
    "  Input: `lst = [0, 2]`\n",
    "\n",
    "  Output: [1]\n",
    "\n",
    "  ### Example 2\n",
    "\n",
    "  Input: `lst = [5, 0, 1]`\n",
    "\n",
    "  Output: [2, 3, 4]\n",
    "\n",
    "  ### Example 3\n",
    "\n",
    "  Input: `lst = [6, 8, 2, 3, 5, 7, 0, 1, 10]`\n",
    "\n",
    "  Output: [4, 9]\n",
    "\n",
    "</details>\n",
    "\n",
    "#### Starter Code for Question 3\n"
   ]
  },
  {
   "cell_type": "code",
   "execution_count": 2,
   "metadata": {},
   "outputs": [
    {
     "name": "stdout",
     "output_type": "stream",
     "text": [
      "[1]\n",
      "[2, 3]\n",
      "[4, 9]\n"
     ]
    }
   ],
   "source": [
    "from typing import List\n",
    "\n",
    "def missing_num(nums: List[int]) -> List[int]:\n",
    "    n = len(nums)\n",
    "    full_set = set(range(n+1))\n",
    "    num_set = set(nums)\n",
    "    missing_numbers = sorted(list(full_set - num_set))\n",
    "    \n",
    "    return missing_numbers if missing_numbers else [-1]\n",
    "\n",
    "# Examples\n",
    "print(missing_num([0, 2]))          # Output: [1]\n",
    "print(missing_num([5, 0, 1]))       # Output: [2, 3, 4]\n",
    "print(missing_num([6, 8, 2, 3, 5, 7, 0, 1, 10]))  # Output: [4, 9]"
   ]
  },
  {
   "cell_type": "markdown",
   "metadata": {},
   "source": [
    "\n",
    "## Part 2:\n",
    "\n",
    "-   Paraphrase the problem in your own words\n"
   ]
  },
  {
   "cell_type": "code",
   "execution_count": null,
   "metadata": {},
   "outputs": [],
   "source": [
    "# Your answer here\n",
    "I have a list of n integers that are supposed to be within the range from 0 to n.\n",
    " Some numbers in this range might be missing from the list, \n",
    " and some numbers might appear more than once. \n",
    " My task is to identify and return the missing numbers from this range. \n",
    " If no numbers are missing, I should return -1"
   ]
  },
  {
   "cell_type": "markdown",
   "metadata": {},
   "source": [
    "- In this .ipynb file, there are examples that illustrate how the code should work (the examples provided above). Create 2 new examples for the question you have been assigned, that demonstrate you understand the problem. For question 1 and 2, you don't need to create the tree demonstration, just the input and output.\n"
   ]
  },
  {
   "cell_type": "code",
   "execution_count": null,
   "metadata": {},
   "outputs": [],
   "source": [
    " # Your answer here\n",
    "Here are two additional examples that demonstrate my understanding of the problem:\n",
    "\n",
    "Example 1\n",
    "Input: lst = [4, 3, 1, 0]\n",
    "\n",
    "Output: [2, 5]\n",
    "\n",
    "Example 2\n",
    "Input: lst = [7, 3, 1, 0, 2, 8]\n",
    "\n",
    "Output: [4, 5, 6]"
   ]
  },
  {
   "cell_type": "markdown",
   "metadata": {},
   "source": [
    "\n",
    "-   Code the solution to your assigned problem in Python (code chunk). Try to find the best time and space complexity solution!\n"
   ]
  },
  {
   "cell_type": "code",
   "execution_count": 3,
   "metadata": {},
   "outputs": [
    {
     "name": "stdout",
     "output_type": "stream",
     "text": [
      "[1]\n",
      "[2, 3]\n",
      "[4, 9]\n",
      "[2]\n",
      "[4, 5, 6]\n"
     ]
    }
   ],
   "source": [
    "# Your answer here\n",
    "from typing import List\n",
    "\n",
    "def missing_num(nums: List[int]) -> List[int]:\n",
    "    n = len(nums)\n",
    "    full_set = set(range(n + 1))\n",
    "    num_set = set(nums)\n",
    "    missing_numbers = sorted(list(full_set - num_set))\n",
    "    \n",
    "    return missing_numbers if missing_numbers else [-1]\n",
    "\n",
    "# Test examples\n",
    "print(missing_num([0, 2]))          # Output: [1]\n",
    "print(missing_num([5, 0, 1]))       # Output: [2, 3, 4]\n",
    "print(missing_num([6, 8, 2, 3, 5, 7, 0, 1, 10]))  # Output: [4, 9]\n",
    "print(missing_num([4, 3, 1, 0]))    # Output: [2, 5]\n",
    "print(missing_num([7, 3, 1, 0, 2, 8]))  # Output: [4, 5, 6]"
   ]
  },
  {
   "cell_type": "markdown",
   "metadata": {},
   "source": [
    "\n",
    "-   Explain why your solution works\n"
   ]
  },
  {
   "cell_type": "code",
   "execution_count": null,
   "metadata": {},
   "outputs": [],
   "source": [
    "# Your answer here\n",
    "The solution works by leveraging the properties of sets to efficiently identify the missing numbers from a given list. \n",
    "Here's a detailed explanation of why and how the solution works:\n",
    "1. Understanding the Problem:\n",
    "\t- We need to find numbers that are missing from the list nums in the range [0, n], where n is the length of the list.\n",
    "\t- The list nums may contain duplicates and numbers within the range [0, n].\n",
    "2. Approach:\n",
    "\t- Full Range Set: Create a set called full_set containing all integers from 0 to n. This represents all possible numbers that should be present.\n",
    "\t- Unique Numbers Set: Convert the input list nums to a set called num_set to eliminate duplicates and represent the unique numbers present in the list.\n",
    "\t- Difference of Sets: Calculate the difference between full_set and num_set. This difference will give us the set of numbers that are missing from the list.\n",
    "\t- Sorting and Return: Convert the difference set to a sorted list to maintain the order and return it. If no numbers are missing, return [-1].\n",
    "3. Correctness:\n",
    "\t- Full Range Coverage: By creating full_set, we ensure that all numbers from 0 to n are considered.\n",
    "\t- Handling Duplicates: Converting nums to a set num_set ensures that duplicates are removed and we only consider unique numbers.\n",
    "\t- Accurate Missing Numbers: The set difference operation accurately identifies which numbers are missing from the list."
   ]
  },
  {
   "cell_type": "markdown",
   "metadata": {},
   "source": [
    "\n",
    "-   Explain the problem’s time and space complexity\n"
   ]
  },
  {
   "cell_type": "code",
   "execution_count": null,
   "metadata": {},
   "outputs": [],
   "source": [
    "# Your answer here\n",
    "- Efficiency:\n",
    "\t- Time Complexity: The time complexity is 𝑂(𝑛) because:\n",
    "\t\t- Creating the full_set and num_set takes 𝑂(𝑛).\n",
    "\t\t- The set difference operation also takes 𝑂(𝑛).\n",
    "\t\t- Sorting the resulting list takes 𝑂(𝑚log𝑚), where 𝑚 is the number of missing elements. \n",
    "\t\tIn the worst case, 𝑚 can be 𝑛+1, but generally, this is efficient.\n",
    "\t- Space Complexity: The space complexity is 𝑂(𝑛) because we are using additional space to store the sets full_set and num_set, which both have a size of 𝑛+1."
   ]
  },
  {
   "cell_type": "markdown",
   "metadata": {},
   "source": [
    "\n",
    "-   Explain the thinking to an alternative solution (no coding required, but a classmate reading this should be able to code it up based off your text)\n"
   ]
  },
  {
   "cell_type": "code",
   "execution_count": null,
   "metadata": {},
   "outputs": [],
   "source": [
    "# Your answer here\n",
    "Here's an alternative solution using a different approach, \n",
    "which involves summing the elements and using the expected sum of the range. \n",
    "This approach also has an efficient time complexity of 𝑂(𝑛) and a space complexity of 𝑂(1) because it doesn't require extra data structures.\n",
    "\n",
    "Alternative Solution Explanation\n",
    "\n",
    "1. Calculate the Expected Sum:\n",
    "\n",
    "\t- The sum of the first n natural numbers (from 0 to n) can be calculated using the formula:\n",
    "\t\t\n",
    "\t\t\t\t\t\t   𝑛 x (𝑛 + 1)\n",
    "\t\texpected_sum = --------------------\n",
    "                                 2\n",
    "\n",
    "\t- This sum represents the total sum of all numbers from 0 to n if no numbers were missing.\n",
    "\t\n",
    "2. Calculate the Actual Sum:\n",
    "\n",
    "\t-Iterate through the list nums and calculate the sum of all its elements. This is the actual sum of the numbers present in the list.\n",
    "\t\n",
    "3. Identify Missing Numbers:\n",
    "\n",
    "\t- To find the missing numbers, compare the expected_sum with the actual_sum.\n",
    "\t- The difference between the expected_sum and actual_sum gives us a single missing number, but since there can be multiple missing numbers, we need to be a bit more elaborate:\n",
    "\t\t- Use a boolean array (or a list) of size n+1 initialized to False to keep track of the numbers present in the list.\n",
    "\t\t- Iterate through the list nums, and for each number, mark its corresponding index in the boolean array as True.\n",
    "\t\t- After this, the indices in the boolean array that remain False are the missing numbers."
   ]
  },
  {
   "cell_type": "markdown",
   "metadata": {},
   "source": [
    "## Evaluation Criteria\n",
    "\n",
    "-   Problem is accurately stated\n",
    "\n",
    "-   Two examples are correct and easily understandable\n",
    "\n",
    "-   Correctness, time, and space complexity of the coding solution\n",
    "\n",
    "-   Clarity in explaining why the solution works, its time and space complexity\n",
    "\n",
    "-   Clarity in the proposal to the alternative solution"
   ]
  },
  {
   "cell_type": "markdown",
   "metadata": {},
   "source": [
    "## Submission Information\n",
    "\n",
    "🚨 **Please review our [Assignment Submission Guide](https://github.com/UofT-DSI/onboarding/blob/main/onboarding_documents/submissions.md)** 🚨 for detailed instructions on how to format, branch, and submit your work. Following these guidelines is crucial for your submissions to be evaluated correctly.\n",
    "\n",
    "### Submission Parameters:\n",
    "* Submission Due Date: `HH:MM AM/PM - DD/MM/YYYY`\n",
    "* The branch name for your repo should be: `assignment-1`\n",
    "* What to submit for this assignment:\n",
    "    * This Jupyter Notebook (assignment_1.ipynb) should be populated and should be the only change in your pull request.\n",
    "* What the pull request link should look like for this assignment: `https://github.com/<your_github_username>/algorithms_and_data_structures/pull/<pr_id>`\n",
    "    * Open a private window in your browser. Copy and paste the link to your pull request into the address bar. Make sure you can see your pull request properly. This helps the technical facilitator and learning support staff review your submission easily.\n",
    "\n",
    "Checklist:\n",
    "- [ ] Create a branch called `assignment-1`.\n",
    "- [ ] Ensure that the repository is public.\n",
    "- [ ] Review [the PR description guidelines](https://github.com/UofT-DSI/onboarding/blob/main/onboarding_documents/submissions.md#guidelines-for-pull-request-descriptions) and adhere to them.\n",
    "- [ ] Verify that the link is accessible in a private browser window.\n",
    "\n",
    "If you encounter any difficulties or have questions, please don't hesitate to reach out to our team via our Slack at `#cohort-3-help`. Our Technical Facilitators and Learning Support staff are here to help you navigate any challenges."
   ]
  }
 ],
 "metadata": {
  "kernelspec": {
   "display_name": "Python 3",
   "language": "python",
   "name": "python3"
  },
  "language_info": {
   "codemirror_mode": {
    "name": "ipython",
    "version": 3
   },
   "file_extension": ".py",
   "mimetype": "text/x-python",
   "name": "python",
   "nbconvert_exporter": "python",
   "pygments_lexer": "ipython3",
   "version": "3.12.4"
  }
 },
 "nbformat": 4,
 "nbformat_minor": 2
}
